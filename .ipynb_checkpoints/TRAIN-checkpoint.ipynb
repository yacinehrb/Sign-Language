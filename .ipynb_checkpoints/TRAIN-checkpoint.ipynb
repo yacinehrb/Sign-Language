{
 "cells": [
  {
   "cell_type": "markdown",
   "id": "75d40c57",
   "metadata": {},
   "source": [
    "# IMPORTING DEPENDENCIES"
   ]
  },
  {
   "cell_type": "code",
   "execution_count": 1,
   "id": "0c3b51a4",
   "metadata": {},
   "outputs": [],
   "source": [
    "from gc import callbacks\n",
    "import tensorboard\n",
    "from tensorflow.keras.preprocessing.image import ImageDataGenerator\n",
    "from tensorflow.keras.callbacks import TensorBoard\n",
    "import tensorflow as tf "
   ]
  },
  {
   "cell_type": "markdown",
   "id": "8a96fbd3",
   "metadata": {},
   "source": [
    "# LOADING MODEL TO TENSORBOARD"
   ]
  },
  {
   "cell_type": "code",
   "execution_count": null,
   "id": "52c27b78",
   "metadata": {},
   "outputs": [],
   "source": [
    "# Tensorboard is a tool providing the measurements and visualizations needed during the machine learning workflow.\n",
    "# It enables tracking experiment metrics like loss and accuracy.\n",
    "\n",
    "tensor_board= TensorBoard(log_dir='My_model')"
   ]
  },
  {
   "cell_type": "markdown",
   "id": "10843315",
   "metadata": {},
   "source": [
    "# DL MODEL"
   ]
  },
  {
   "cell_type": "code",
   "execution_count": null,
   "id": "3155fcc6",
   "metadata": {},
   "outputs": [],
   "source": [
    "model=tf.keras.Sequential([\n",
    "    # Convolution layer\n",
    "    \n",
    "    \ttf.keras.layers.Conv2D(16, (3,3), activation='relu', input_shape=(64,64,1)),\n",
    "    \ttf.keras.layers.MaxPooling2D(2,2),\n",
    "\n",
    "    \ttf.keras.layers.Conv2D(32, (3,3), activation='relu'),\n",
    "    \ttf.keras.layers.MaxPooling2D(3,3),\n",
    "\n",
    "    \ttf.keras.layers.Conv2D(64, (3,3), activation='relu'),\n",
    "    \ttf.keras.layers.MaxPooling2D(2,2),\n",
    "\n",
    "\t    tf.keras.layers.Conv2D(64, (2,2), activation='relu'),\n",
    "    \ttf.keras.layers.MaxPooling2D(2,2),\n",
    "\n",
    "    # Fully connected layer\n",
    "    \ttf.keras.layers.Flatten(),\n",
    "    \ttf.keras.layers.Dense(128, activation='relu'),\n",
    "    \ttf.keras.layers.Dense(27, activation='softmax')]\n",
    ")\n",
    "\n",
    "model.summary()\n",
    "model.compile(loss='categorical_crossentropy',\n",
    "              optimizer='adam',\n",
    "              metrics=['accuracy'])"
   ]
  },
  {
   "cell_type": "markdown",
   "id": "e6e8ae33",
   "metadata": {},
   "source": [
    "# DATA AUGMENTATION"
   ]
  },
  {
   "cell_type": "code",
   "execution_count": null,
   "id": "155d2ce3",
   "metadata": {},
   "outputs": [],
   "source": [
    "# The flow_from_directory method takes in a directory path as input, which contains subdirectories representing different classes of images. \n",
    "# For example, if you have a directory data that contains subdirectories cat and dog\n",
    "# where cat contains images of cats and dog contains images of dogs, then you can use flow_from_directory to generate batches of training data\n",
    "\n",
    "train_datagen = ImageDataGenerator(rescale=1./250)\n",
    "training_set = train_datagen.flow_from_directory(r'C:\\PROJECTS\\SIGN_LANGUAGE_2\\data\\train',\n",
    "                                                 target_size=(64,64),\n",
    "                                                 batch_size=5,  \n",
    "                                                 color_mode='grayscale',\n",
    "                                                 class_mode='categorical')\n",
    "test_datagen=ImageDataGenerator(rescale=1./250,\n",
    "\t\t\t\t\t\t\t\tshear_range=0.2,\n",
    "        \t\t\t\t\t\tzoom_range=0.2,\n",
    "        \t\t\t\t\t\thorizontal_flip=True)\n",
    "\n",
    "testing_set=test_datagen.flow_from_directory(r'C:\\PROJECTS\\SIGN_LANGUAGE_2\\data\\test',\n",
    "\t\t\t\t\t\t\t\t\t\t\t\ttarget_size=(64,64),\n",
    "                                                 batch_size=5,  \n",
    "                                                 color_mode='grayscale',\n",
    "                                                 class_mode='categorical')"
   ]
  },
  {
   "cell_type": "markdown",
   "id": "0d20af0f",
   "metadata": {},
   "source": [
    "# TRAINING THE MODEL"
   ]
  },
  {
   "cell_type": "code",
   "execution_count": null,
   "id": "ef5f0cc7",
   "metadata": {},
   "outputs": [],
   "source": [
    "model.fit(\n",
    "        training_set,\n",
    "\t\tsteps_per_epoch=10,\n",
    "\t\tvalidation_data=testing_set,\n",
    "        epochs=150,\n",
    "\t\tvalidation_steps=30,\n",
    "\t\tcallbacks=[tensor_board]) \n",
    "\n",
    "model.save('CNN_SIGN_LANGUAGE')\n"
   ]
  }
 ],
 "metadata": {
  "kernelspec": {
   "display_name": "Python 3 (ipykernel)",
   "language": "python",
   "name": "python3"
  },
  "language_info": {
   "codemirror_mode": {
    "name": "ipython",
    "version": 3
   },
   "file_extension": ".py",
   "mimetype": "text/x-python",
   "name": "python",
   "nbconvert_exporter": "python",
   "pygments_lexer": "ipython3",
   "version": "3.9.7"
  }
 },
 "nbformat": 4,
 "nbformat_minor": 5
}
